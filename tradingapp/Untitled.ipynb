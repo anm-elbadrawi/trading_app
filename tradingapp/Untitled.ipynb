{
 "cells": [
  {
   "cell_type": "code",
   "execution_count": 2,
   "metadata": {},
   "outputs": [],
   "source": [
    "import sympy as spy\n",
    "import matplotlib.pyplot as plt\n",
    "import numpy as np\n",
    "\n",
    "# define some symbols\n",
    "#\n",
    "z1, z2, z0, z02, R, R1, R2, d, g, g1, g2 = spy.symbols('z1 z2 z0 z02 R R1 R2 d g g1 g2')"
   ]
  },
  {
   "cell_type": "code",
   "execution_count": 3,
   "metadata": {},
   "outputs": [
    {
     "data": {
      "text/latex": [
       "$\\displaystyle - R_{1} + \\frac{z_{02}}{z_{1}} + z_{1}$"
      ],
      "text/plain": [
       "-R1 + z02/z1 + z1"
      ]
     },
     "execution_count": 3,
     "metadata": {},
     "output_type": "execute_result"
    }
   ],
   "source": [
    "# equals zero\n",
    "\n",
    "expr1 = z1 + z02/z1 -R1\n",
    "expr1"
   ]
  },
  {
   "cell_type": "code",
   "execution_count": 4,
   "metadata": {},
   "outputs": [
    {
     "data": {
      "text/latex": [
       "$\\displaystyle - \\left(- d + z_{2}\\right) \\left(- R_{1} - d + z_{2}\\right)$"
      ],
      "text/plain": [
       "-(-d + z2)*(-R1 - d + z2)"
      ]
     },
     "execution_count": 4,
     "metadata": {},
     "output_type": "execute_result"
    }
   ],
   "source": [
    "z02expr1 = spy.factor(spy.solve(expr1.subs(z1,z2-d),z02)[0])\n",
    "z02expr1"
   ]
  },
  {
   "cell_type": "code",
   "execution_count": 5,
   "metadata": {},
   "outputs": [
    {
     "data": {
      "text/latex": [
       "$\\displaystyle z_{2} \\left(R_{2} - z_{2}\\right)$"
      ],
      "text/plain": [
       "z2*(R2 - z2)"
      ]
     },
     "execution_count": 5,
     "metadata": {},
     "output_type": "execute_result"
    }
   ],
   "source": [
    "z02expr2 = (R2-z2)*z2\n",
    "z02expr2"
   ]
  },
  {
   "cell_type": "code",
   "execution_count": 6,
   "metadata": {},
   "outputs": [
    {
     "data": {
      "text/latex": [
       "$\\displaystyle \\frac{d \\left(R_{1} + d\\right)}{R_{1} - R_{2} + 2 d}$"
      ],
      "text/plain": [
       "d*(R1 + d)/(R1 - R2 + 2*d)"
      ]
     },
     "execution_count": 6,
     "metadata": {},
     "output_type": "execute_result"
    }
   ],
   "source": [
    "z2expr = spy.solve(z02expr1-z02expr2,z2)[0]\n",
    "z2expr"
   ]
  },
  {
   "cell_type": "code",
   "execution_count": 7,
   "metadata": {},
   "outputs": [
    {
     "data": {
      "text/latex": [
       "$\\displaystyle \\frac{d \\left(R_{2} - d\\right)}{R_{1} - R_{2} + 2 d}$"
      ],
      "text/plain": [
       "d*(R2 - d)/(R1 - R2 + 2*d)"
      ]
     },
     "execution_count": 7,
     "metadata": {},
     "output_type": "execute_result"
    }
   ],
   "source": [
    "z1expr = spy.simplify(z2expr-d)\n",
    "z1expr"
   ]
  },
  {
   "cell_type": "code",
   "execution_count": 8,
   "metadata": {},
   "outputs": [
    {
     "data": {
      "text/latex": [
       "$\\displaystyle \\frac{d \\left(R_{1} + d\\right) \\left(R_{2} \\left(R_{1} - R_{2} + 2 d\\right) - d \\left(R_{1} + d\\right)\\right)}{\\left(R_{1} - R_{2} + 2 d\\right)^{2}}$"
      ],
      "text/plain": [
       "d*(R1 + d)*(R2*(R1 - R2 + 2*d) - d*(R1 + d))/(R1 - R2 + 2*d)**2"
      ]
     },
     "execution_count": 8,
     "metadata": {},
     "output_type": "execute_result"
    }
   ],
   "source": [
    "z02exprFinal = spy.simplify(z02expr2.subs(z2,z2expr))\n",
    "z02exprFinal"
   ]
  },
  {
   "cell_type": "code",
   "execution_count": 9,
   "metadata": {},
   "outputs": [
    {
     "data": {
      "text/latex": [
       "$\\displaystyle - d \\left(R_{1} + d\\right) \\left(- R_{2} + d\\right) \\left(R_{1} - R_{2} + d\\right)$"
      ],
      "text/plain": [
       "-d*(R1 + d)*(-R2 + d)*(R1 - R2 + d)"
      ]
     },
     "execution_count": 9,
     "metadata": {},
     "output_type": "execute_result"
    }
   ],
   "source": [
    "# factor the numerator of the above\n",
    "#\n",
    "numer = spy.fraction(z02exprFinal)[0]\n",
    "spy.factor(numer)"
   ]
  },
  {
   "cell_type": "code",
   "execution_count": 10,
   "metadata": {},
   "outputs": [
    {
     "data": {
      "text/latex": [
       "$\\displaystyle \\frac{R_{1}^{2} d \\left(R_{2} - d\\right)}{R_{1}^{2} - R_{1} R_{2} + 2 R_{1} d - R_{2} d + d^{2}}$"
      ],
      "text/plain": [
       "R1**2*d*(R2 - d)/(R1**2 - R1*R2 + 2*R1*d - R2*d + d**2)"
      ]
     },
     "execution_count": 10,
     "metadata": {},
     "output_type": "execute_result"
    }
   ],
   "source": [
    "w14expr = (z02*(1+z1**2/z02)**2).subs({z02:z02exprFinal,z1:z1expr})\n",
    "w14exprFinal = spy.simplify(w14expr)\n",
    "w14exprFinal"
   ]
  },
  {
   "cell_type": "code",
   "execution_count": 11,
   "metadata": {},
   "outputs": [
    {
     "data": {
      "text/latex": [
       "$\\displaystyle \\left(R_{1} + d\\right) \\left(R_{1} - R_{2} + d\\right)$"
      ],
      "text/plain": [
       "(R1 + d)*(R1 - R2 + d)"
      ]
     },
     "execution_count": 11,
     "metadata": {},
     "output_type": "execute_result"
    }
   ],
   "source": [
    "# Factor the denominator\n",
    "#\n",
    "denom = spy.fraction(w14exprFinal)[1]\n",
    "spy.factor(denom)"
   ]
  },
  {
   "cell_type": "code",
   "execution_count": 12,
   "metadata": {},
   "outputs": [
    {
     "data": {
      "text/latex": [
       "$\\displaystyle - \\frac{R_{2}^{2} d \\left(R_{1} + d\\right)}{\\left(- R_{2} + d\\right) \\left(R_{1} - R_{2} + d\\right)}$"
      ],
      "text/plain": [
       "-R2**2*d*(R1 + d)/((-R2 + d)*(R1 - R2 + d))"
      ]
     },
     "execution_count": 12,
     "metadata": {},
     "output_type": "execute_result"
    }
   ],
   "source": [
    "w24expr = (z02*(1+z2**2/z02)**2).subs({z02:z02exprFinal,z2:z2expr})\n",
    "w24exprFinal = spy.factor(w24expr)\n",
    "w24exprFinal"
   ]
  },
  {
   "cell_type": "code",
   "execution_count": 22,
   "metadata": {},
   "outputs": [
    {
     "data": {
      "text/latex": [
       "$\\displaystyle \\frac{0.3125 R_{2} \\left(R_{2} - 2.0\\right) - 0.390625}{\\left(0.5 R_{2} - 1\\right)^{2}}$"
      ],
      "text/plain": [
       "(0.3125*R2*(R2 - 2.0) - 0.390625)/(0.5*R2 - 1)**2"
      ]
     },
     "execution_count": 22,
     "metadata": {},
     "output_type": "execute_result"
    }
   ],
   "source": [
    "z02exprFinal.subs({d:2.5, R1:-3}).simplify()"
   ]
  },
  {
   "cell_type": "code",
   "execution_count": null,
   "metadata": {},
   "outputs": [],
   "source": []
  },
  {
   "cell_type": "code",
   "execution_count": null,
   "metadata": {},
   "outputs": [],
   "source": []
  }
 ],
 "metadata": {
  "kernelspec": {
   "display_name": "Python 3",
   "language": "python",
   "name": "python3"
  },
  "language_info": {
   "codemirror_mode": {
    "name": "ipython",
    "version": 3
   },
   "file_extension": ".py",
   "mimetype": "text/x-python",
   "name": "python",
   "nbconvert_exporter": "python",
   "pygments_lexer": "ipython3",
   "version": "3.8.5"
  }
 },
 "nbformat": 4,
 "nbformat_minor": 4
}
